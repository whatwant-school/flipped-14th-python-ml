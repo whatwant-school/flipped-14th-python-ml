{
  "nbformat": 4,
  "nbformat_minor": 0,
  "metadata": {
    "colab": {
      "name": "gradient_descent.ipynb",
      "provenance": [],
      "collapsed_sections": []
    },
    "kernelspec": {
      "name": "python3",
      "display_name": "Python 3"
    }
  },
  "cells": [
    {
      "cell_type": "code",
      "metadata": {
        "colab": {
          "base_uri": "https://localhost:8080/",
          "height": 282
        },
        "id": "WxDHTuOMR69f",
        "outputId": "5bfca92d-fd1b-45eb-f24d-7f149a6d731f"
      },
      "source": [
        "import numpy as np\r\n",
        "import matplotlib.pyplot as plt\r\n",
        "%matplotlib inline\r\n",
        "\r\n",
        "np.random.seed(0)\r\n",
        "\r\n",
        "# y = 4X + 6 식을 근사(w1=4, w0=6). random 값은 Noise를 위해 만듬\r\n",
        "X = 2 * np.random.rand(100,1)\r\n",
        "y = 4*X + 6 + np.random.randn(100,1)\r\n",
        "\r\n",
        "plt.scatter(X, y)"
      ],
      "execution_count": 1,
      "outputs": [
        {
          "output_type": "execute_result",
          "data": {
            "text/plain": [
              "<matplotlib.collections.PathCollection at 0x7f827a46fcf8>"
            ]
          },
          "metadata": {
            "tags": []
          },
          "execution_count": 1
        },
        {
          "output_type": "display_data",
          "data": {
            "image/png": "[encoded data removed]",
            "text/plain": [
              "<Figure size 432x288 with 1 Axes>"
            ]
          },
          "metadata": {
            "tags": [],
            "needs_background": "light"
          }
        }
      ]
    },
    {
      "cell_type": "code",
      "metadata": {
        "id": "XRkau-O7SmpO"
      },
      "source": [
        "def get_weight_updates(w1, w0, X, y, learning_rate=0.01):\r\n",
        "    N = len(y)\r\n",
        "\r\n",
        "    # 먼저 w1_update, w0_update를 각각 w1, w0의 shape와 동일한 크기를 가진 0 값으로 초기화\r\n",
        "    w1_update = np.zeros_like(w1)\r\n",
        "    w0_update = np.zeros_like(w0)\r\n",
        "    \r\n",
        "    # 예측 배열 계산하고 예측과 실제 값의 차이 계산\r\n",
        "    y_pred = np.dot(X, w1.T) + w0\r\n",
        "    diff = y - y_pred\r\n",
        "         \r\n",
        "    # w0_update를 dot 행렬 연산으로 구하기 위해 모두 1값을 가진 행렬 생성 \r\n",
        "    w0_factors = np.ones((N,1))\r\n",
        "\r\n",
        "    # w1과 w0을 업데이트할 w1_update와 w0_update 계산\r\n",
        "    w1_update = -(2/N)*learning_rate*(np.dot(X.T, diff))\r\n",
        "    w0_update = -(2/N)*learning_rate*(np.dot(w0_factors.T, diff))    \r\n",
        "    \r\n",
        "    return w1_update, w0_update"
      ],
      "execution_count": 2,
      "outputs": []
    },
    {
      "cell_type": "code",
      "metadata": {
        "id": "FdnKGa-gThdc"
      },
      "source": [
        "def gradient_descent_steps(X, y, iters=10000):\r\n",
        "\r\n",
        "    # w0와 w1을 모두 0으로 초기화. \r\n",
        "    w0 = np.zeros((1,1))\r\n",
        "    w1 = np.zeros((1,1))\r\n",
        "    \r\n",
        "    # 인자로 주어진 iters 만큼 반복적으로 get_weight_updates() 호출하여 w1, w0 업데이트 수행.\r\n",
        "    for ind in range(iters):\r\n",
        "        w1_update, w0_update = get_weight_updates(w1, w0, X, y, learning_rate=0.01)\r\n",
        "        \r\n",
        "        w1 = w1 - w1_update\r\n",
        "        w0 = w0 - w0_update\r\n",
        "              \r\n",
        "    return w1, w0"
      ],
      "execution_count": 3,
      "outputs": []
    },
    {
      "cell_type": "code",
      "metadata": {
        "colab": {
          "base_uri": "https://localhost:8080/"
        },
        "id": "tkfR1SOzTugV",
        "outputId": "79b89b5f-a85d-4236-89ee-d25c54f79591"
      },
      "source": [
        "def get_cost(y, y_pred):\r\n",
        "    N = len(y)\r\n",
        "\r\n",
        "    cost = np.sum(np.square(y - y_pred))/N\r\n",
        "    return cost\r\n",
        "\r\n",
        "\r\n",
        "w1, w0 = gradient_descent_steps(X, y, iters=1000)\r\n",
        "print(\"w1:{0:.3f} w0:{1:.3f}\".format(w1[0,0], w0[0,0]))\r\n",
        "\r\n",
        "y_pred = w1[0,0] * X + w0\r\n",
        "print('Gradient Descent Total Cost:{0:.4f}'.format(get_cost(y, y_pred)))"
      ],
      "execution_count": 4,
      "outputs": [
        {
          "output_type": "stream",
          "text": [
            "w1:4.022 w0:6.162\n",
            "Gradient Descent Total Cost:0.9935\n"
          ],
          "name": "stdout"
        }
      ]
    },
    {
      "cell_type": "code",
      "metadata": {
        "colab": {
          "base_uri": "https://localhost:8080/",
          "height": 282
        },
        "id": "DW6ogyuuT4BT",
        "outputId": "0884ad13-6b11-4d71-fab0-efa349ec7e38"
      },
      "source": [
        "plt.scatter(X, y)\r\n",
        "plt.plot(X,y_pred)"
      ],
      "execution_count": 5,
      "outputs": [
        {
          "output_type": "execute_result",
          "data": {
            "text/plain": [
              "[<matplotlib.lines.Line2D at 0x7f827a4be208>]"
            ]
          },
          "metadata": {
            "tags": []
          },
          "execution_count": 5
        },
        {
          "output_type": "display_data",
          "data": {
            "image/png": "[encoded data removed]",
            "text/plain": [
              "<Figure size 432x288 with 1 Axes>"
            ]
          },
          "metadata": {
            "tags": [],
            "needs_background": "light"
          }
        }
      ]
    },
    {
      "cell_type": "code",
      "metadata": {
        "id": "vHnezZueT9Q6"
      },
      "source": [
        "def stochastic_gradient_descent_steps(X, y, batch_size=10, iters=1000):\r\n",
        "\r\n",
        "    w0 = np.zeros((1,1))\r\n",
        "    w1 = np.zeros((1,1))\r\n",
        "\r\n",
        "    prev_cost = 100000\r\n",
        "    iter_index =0\r\n",
        "    \r\n",
        "    for ind in range(iters):\r\n",
        "        np.random.seed(ind)\r\n",
        "\r\n",
        "        # 전체 X, y 데이터에서 랜덤하게 batch_size만큼 데이터 추출하여 sample_X, sample_y로 저장\r\n",
        "        stochastic_random_index = np.random.permutation(X.shape[0])\r\n",
        "        sample_X = X[stochastic_random_index[0:batch_size]]\r\n",
        "        sample_y = y[stochastic_random_index[0:batch_size]]\r\n",
        "\r\n",
        "        # 랜덤하게 batch_size만큼 추출된 데이터 기반으로 w1_update, w0_update 계산 후 업데이트\r\n",
        "        w1_update, w0_update = get_weight_updates(w1, w0, sample_X, sample_y, learning_rate=0.01)\r\n",
        "\r\n",
        "        w1 = w1 - w1_update\r\n",
        "        w0 = w0 - w0_update\r\n",
        "    \r\n",
        "    return w1, w0"
      ],
      "execution_count": 6,
      "outputs": []
    },
    {
      "cell_type": "code",
      "metadata": {
        "colab": {
          "base_uri": "https://localhost:8080/"
        },
        "id": "d8LqhDmYUWq9",
        "outputId": "f3e23c41-44b7-49f6-e421-37711d1719b3"
      },
      "source": [
        "w1, w0 = stochastic_gradient_descent_steps(X, y, iters=1000)\r\n",
        "print(\"w1:\",round(w1[0,0],3),\"w0:\",round(w0[0,0],3))\r\n",
        "\r\n",
        "y_pred = w1[0,0] * X + w0\r\n",
        "print('Stochastic Gradient Descent Total Cost:{0:.4f}'.format(get_cost(y, y_pred)))"
      ],
      "execution_count": 7,
      "outputs": [
        {
          "output_type": "stream",
          "text": [
            "w1: 4.028 w0: 6.156\n",
            "Stochastic Gradient Descent Total Cost:0.9937\n"
          ],
          "name": "stdout"
        }
      ]
    }
  ]
}