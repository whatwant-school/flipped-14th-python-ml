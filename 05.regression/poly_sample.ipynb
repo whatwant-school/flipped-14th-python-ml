{
  "nbformat": 4,
  "nbformat_minor": 0,
  "metadata": {
    "colab": {
      "name": "poly-sample.ipynb",
      "provenance": [],
      "collapsed_sections": []
    },
    "kernelspec": {
      "name": "python3",
      "display_name": "Python 3"
    }
  },
  "cells": [
    {
      "cell_type": "code",
      "metadata": {
        "colab": {
          "base_uri": "https://localhost:8080/",
          "height": 278
        },
        "id": "oioc_8SXkUno",
        "outputId": "20ce1897-72b4-47bc-f909-0e0591ac2176"
      },
      "source": [
        "import numpy as np\r\n",
        "\r\n",
        "# 농어 데이터\r\n",
        "\r\n",
        "perch_length = np.array([8.4, 13.7, 15.0, 16.2, 17.4, 18.0, 18.7, 19.0, 19.6, 20.0, 21.0,\r\n",
        "       21.0, 21.0, 21.3, 22.0, 22.0, 22.0, 22.0, 22.0, 22.5, 22.5, 22.7,\r\n",
        "       23.0, 23.5, 24.0, 24.0, 24.6, 25.0, 25.6, 26.5, 27.3, 27.5, 27.5,\r\n",
        "       27.5, 28.0, 28.7, 30.0, 32.8, 34.5, 35.0, 36.5, 36.0, 37.0, 37.0,\r\n",
        "       39.0, 39.0, 39.0, 40.0, 40.0, 40.0, 40.0, 42.0, 43.0, 43.0, 43.5,\r\n",
        "       44.0])\r\n",
        "perch_weight = np.array([5.9, 32.0, 40.0, 51.5, 70.0, 100.0, 78.0, 80.0, 85.0, 85.0, 110.0,\r\n",
        "       115.0, 125.0, 130.0, 120.0, 120.0, 130.0, 135.0, 110.0, 130.0,\r\n",
        "       150.0, 145.0, 150.0, 170.0, 225.0, 145.0, 188.0, 180.0, 197.0,\r\n",
        "       218.0, 300.0, 260.0, 265.0, 250.0, 250.0, 300.0, 320.0, 514.0,\r\n",
        "       556.0, 840.0, 685.0, 700.0, 700.0, 690.0, 900.0, 650.0, 820.0,\r\n",
        "       850.0, 900.0, 1015.0, 820.0, 1100.0, 1000.0, 1100.0, 1000.0,\r\n",
        "       1000.0])\r\n",
        "\r\n",
        "\r\n",
        "# 데이터 분리\r\n",
        "\r\n",
        "from sklearn.model_selection import train_test_split\r\n",
        "\r\n",
        "train_input, test_input, train_target, test_target = train_test_split(perch_length, perch_weight, random_state=42)\r\n",
        "\r\n",
        "train_input = train_input.reshape(-1,1)\r\n",
        "test_input = test_input.reshape(-1,1)\r\n",
        "\r\n",
        "\r\n",
        "# 데이터 분포\r\n",
        "\r\n",
        "import matplotlib.pyplot as plt\r\n",
        "\r\n",
        "plt.scatter(train_input, train_target)\r\n",
        "plt.xlabel('length')\r\n",
        "plt.ylabel('weight')\r\n",
        "plt.show()"
      ],
      "execution_count": 1,
      "outputs": [
        {
          "output_type": "display_data",
          "data": {
            "image/png": "[encoded data removed]",
            "text/plain": [
              "<Figure size 432x288 with 1 Axes>"
            ]
          },
          "metadata": {
            "tags": [],
            "needs_background": "light"
          }
        }
      ]
    },
    {
      "cell_type": "code",
      "metadata": {
        "colab": {
          "base_uri": "https://localhost:8080/"
        },
        "id": "aIE_uHnimBBX",
        "outputId": "0b648e27-f950-4160-d83b-1d1befc638f7"
      },
      "source": [
        "from sklearn.linear_model import LinearRegression\r\n",
        "\r\n",
        "lr = LinearRegression()\r\n",
        "\r\n",
        "lr.fit(train_input, train_target)\r\n",
        "\r\n",
        "# 50cm 농어에 대한 예측\r\n",
        "print(lr.predict([[50]]))\r\n",
        "\r\n",
        "# 계수와 절편\r\n",
        "print(lr.coef_, lr.intercept_)\r\n",
        "\r\n",
        "# 학습용 데이터에 대한 점수\r\n",
        "print(lr.score(train_input, train_target))\r\n",
        "\r\n",
        "# 평가용 데이터에 대한 점수 (낮은 것으로 보아 훈련데이터에 과대적합)\r\n",
        "print(lr.score(test_input, test_target))"
      ],
      "execution_count": 2,
      "outputs": [
        {
          "output_type": "stream",
          "text": [
            "[1241.83860323]\n",
            "[39.01714496] -709.0186449535477\n",
            "0.9398463339976039\n",
            "0.8247503123313558\n"
          ],
          "name": "stdout"
        }
      ]
    },
    {
      "cell_type": "code",
      "metadata": {
        "colab": {
          "base_uri": "https://localhost:8080/",
          "height": 278
        },
        "id": "GtvRIT6DmRtA",
        "outputId": "61c07117-bfdb-43ac-aa61-b69fc638d119"
      },
      "source": [
        "plt.scatter(train_input, train_target)\r\n",
        "\r\n",
        "# 15~50cm 1차 방정식 그래프 그리기\r\n",
        "plt.plot([15, 50], [15*lr.coef_+lr.intercept_, 50*lr.coef_+lr.intercept_])\r\n",
        "\r\n",
        "# 50cm에 대해 예측한 무게 표시\r\n",
        "plt.scatter(50, 1241.8, marker='^')\r\n",
        "\r\n",
        "plt.xlabel('length')\r\n",
        "plt.ylabel('weight')\r\n",
        "plt.show()\r\n",
        "\r\n",
        "# 그래프를 보면 직선 보다는 2차 함수 그래프가 보다 적합해 보임 → 다항 회귀"
      ],
      "execution_count": 3,
      "outputs": [
        {
          "output_type": "display_data",
          "data": {
            "image/png": "[encoded data removed]",
            "text/plain": [
              "<Figure size 432x288 with 1 Axes>"
            ]
          },
          "metadata": {
            "tags": [],
            "needs_background": "light"
          }
        }
      ]
    },
    {
      "cell_type": "code",
      "metadata": {
        "id": "Dv5zX6pUnoJ4"
      },
      "source": [
        "# 길이의 제곱 데이터를 추가한 다항으로 만들기\r\n",
        "\r\n",
        "train_poly = np.column_stack((train_input ** 2, train_input))\r\n",
        "test_poly = np.column_stack((test_input ** 2, test_input))"
      ],
      "execution_count": 4,
      "outputs": []
    },
    {
      "cell_type": "code",
      "metadata": {
        "colab": {
          "base_uri": "https://localhost:8080/"
        },
        "id": "K7yhZ0MBn9wf",
        "outputId": "79fbc925-aab0-40c4-e5ae-c77be4aaba0f"
      },
      "source": [
        "from sklearn.linear_model import LinearRegression\r\n",
        "\r\n",
        "lr = LinearRegression()\r\n",
        "\r\n",
        "# 다항으로 만든 데이터로 학습\r\n",
        "lr.fit(train_poly, train_target)\r\n",
        "\r\n",
        "# 50cm 농어에 대한 예측 (다항이기에 제곱항으로 만들어서 예측해야 함)\r\n",
        "print(lr.predict([[50**2, 50]]))\r\n",
        "\r\n",
        "# 계수와 절편 (다항이기에 2개로 계수가 나옴)\r\n",
        "print(lr.coef_, lr.intercept_)\r\n",
        "\r\n",
        "# 학습용 다항 데이터에 대한 점수\r\n",
        "print(lr.score(train_poly, train_target))\r\n",
        "\r\n",
        "# 평가용 다항 데이터에 대한 점수\r\n",
        "print(lr.score(test_poly, test_target))"
      ],
      "execution_count": 5,
      "outputs": [
        {
          "output_type": "stream",
          "text": [
            "[1573.98423528]\n",
            "[  1.01433211 -21.55792498] 116.05021078278276\n",
            "0.9706807451768623\n",
            "0.9775935108325122\n"
          ],
          "name": "stdout"
        }
      ]
    },
    {
      "cell_type": "code",
      "metadata": {
        "colab": {
          "base_uri": "https://localhost:8080/",
          "height": 278
        },
        "id": "2Dcftqe5ovz3",
        "outputId": "9da90a9c-602f-4117-a2ba-2b7f205b800d"
      },
      "source": [
        "# 구간별 직선을 그리기 위해 15~49까지 정수 배열 만들기\r\n",
        "point = np.arange(15, 50)\r\n",
        "\r\n",
        "plt.scatter(train_input, train_target)\r\n",
        "\r\n",
        "# 학습 결과로 나온 계수와 절편으로 2차 방정식 그래프 만들기\r\n",
        "plt.plot(point, 1.01*point**2 - 21.6*point + 116.05)\r\n",
        "\r\n",
        "# 50cm 농어 예측 결과 표시\r\n",
        "plt.scatter([50], [1574], marker='^')\r\n",
        "\r\n",
        "plt.xlabel('length')\r\n",
        "plt.ylabel('weight')\r\n",
        "plt.show()\r\n",
        "\r\n",
        "# 앞의 것보다 훨씬 잘 맞는 그래프가 되었음을 알 수 있다."
      ],
      "execution_count": 6,
      "outputs": [
        {
          "output_type": "display_data",
          "data": {
            "image/png": "[encoded data removed]",
            "text/plain": [
              "<Figure size 432x288 with 1 Axes>"
            ]
          },
          "metadata": {
            "tags": [],
            "needs_background": "light"
          }
        }
      ]
    }
  ]
}