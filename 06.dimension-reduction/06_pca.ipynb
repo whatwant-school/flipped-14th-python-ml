{
  "nbformat": 4,
  "nbformat_minor": 0,
  "metadata": {
    "colab": {
      "name": "06-pca.ipynb",
      "provenance": [],
      "collapsed_sections": []
    },
    "kernelspec": {
      "name": "python3",
      "display_name": "Python 3"
    }
  },
  "cells": [
    {
      "cell_type": "code",
      "metadata": {
        "colab": {
          "base_uri": "https://localhost:8080/"
        },
        "id": "jzJ8tXaAmq49",
        "outputId": "615a7a7f-ded2-4a63-c0de-e3df5b5d7438"
      },
      "source": [
        "from sklearn.datasets import load_iris\r\n",
        "from sklearn.preprocessing import StandardScaler\r\n",
        "import pandas as pd\r\n",
        "import numpy as np\r\n",
        "\r\n",
        "iris = load_iris()\r\n",
        "\r\n",
        "columns = ['sepal_length','sepal_width','petal_length','petal_width']\r\n",
        "irisDF = pd.DataFrame(iris.data, columns=columns)\r\n",
        "irisDF['target'] = iris.target\r\n",
        "\r\n",
        "iris_scaled = StandardScaler().fit_transform(irisDF)\r\n",
        "\r\n",
        "print(iris_scaled.shape)"
      ],
      "execution_count": 1,
      "outputs": [
        {
          "output_type": "stream",
          "text": [
            "(150, 5)\n"
          ],
          "name": "stdout"
        }
      ]
    },
    {
      "cell_type": "code",
      "metadata": {
        "colab": {
          "base_uri": "https://localhost:8080/"
        },
        "id": "lOe5IbKcnEBi",
        "outputId": "9840dbe2-bbc1-4d13-95ff-dcf67e01c6b4"
      },
      "source": [
        "from sklearn.decomposition import PCA\r\n",
        "\r\n",
        "pca = PCA(n_components=2)\r\n",
        "\r\n",
        "pca.fit(iris_scaled)\r\n",
        "iris_pca = pca.transform(iris_scaled)\r\n",
        "\r\n",
        "print(iris_pca.shape)"
      ],
      "execution_count": 2,
      "outputs": [
        {
          "output_type": "stream",
          "text": [
            "(150, 2)\n"
          ],
          "name": "stdout"
        }
      ]
    },
    {
      "cell_type": "code",
      "metadata": {
        "colab": {
          "base_uri": "https://localhost:8080/"
        },
        "id": "2tISoyewnMBC",
        "outputId": "1a74100d-1012-4020-deb2-1e2346371d4f"
      },
      "source": [
        "pca_columns = ['pca_component_1', 'pca_component_2']\r\n",
        "\r\n",
        "irisDF_pca = pd.DataFrame(iris_pca, columns=pca_columns)\r\n",
        "irisDF_pca['target']=iris.target\r\n",
        "\r\n",
        "print(pca.explained_variance_ratio_)"
      ],
      "execution_count": 3,
      "outputs": [
        {
          "output_type": "stream",
          "text": [
            "[0.76740358 0.18282727]\n"
          ],
          "name": "stdout"
        }
      ]
    },
    {
      "cell_type": "code",
      "metadata": {
        "colab": {
          "base_uri": "https://localhost:8080/"
        },
        "id": "GE9MWBkCndZd",
        "outputId": "6955dbe9-87a7-4fcf-b04e-2621c93f2f3e"
      },
      "source": [
        "from sklearn.ensemble import RandomForestClassifier\r\n",
        "from sklearn.model_selection import cross_val_score\r\n",
        "\r\n",
        "rcf = RandomForestClassifier(random_state=156)\r\n",
        "scores = cross_val_score(rcf, iris.data, iris.target, scoring='accuracy', cv=3)\r\n",
        "\r\n",
        "print('원본 데이터 교차 검증 개별 정확도 :', scores)\r\n",
        "print('원본 데이터 평균 정확도 :', np.mean(scores))"
      ],
      "execution_count": 4,
      "outputs": [
        {
          "output_type": "stream",
          "text": [
            "원본 데이터 교차 검증 개별 정확도 : [0.98 0.94 0.96]\n",
            "원본 데이터 평균 정확도 : 0.96\n"
          ],
          "name": "stdout"
        }
      ]
    },
    {
      "cell_type": "code",
      "metadata": {
        "colab": {
          "base_uri": "https://localhost:8080/"
        },
        "id": "ip_dZX24nnos",
        "outputId": "dc13f4f1-d174-4140-819a-982a8aa43afc"
      },
      "source": [
        "pca_X = irisDF_pca[['pca_component_1', 'pca_component_2']]\r\n",
        "\r\n",
        "scores_pca = cross_val_score(rcf, pca_X, iris.target, scoring='accuracy', cv=3 )\r\n",
        "\r\n",
        "print('PCA 변환 데이터 교차 검증 개별 정확도 :', scores_pca)\r\n",
        "print('PCA 변환 데이터 평균 정확도 :', np.mean(scores_pca))"
      ],
      "execution_count": 5,
      "outputs": [
        {
          "output_type": "stream",
          "text": [
            "PCA 변환 데이터 교차 검증 개별 정확도 : [0.98 0.98 1.  ]\n",
            "PCA 변환 데이터 평균 정확도 : 0.9866666666666667\n"
          ],
          "name": "stdout"
        }
      ]
    }
  ]
}